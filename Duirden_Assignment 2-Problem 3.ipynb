{
 "cells": [
  {
   "cell_type": "code",
   "execution_count": 22,
   "metadata": {},
   "outputs": [
    {
     "name": "stdout",
     "output_type": "stream",
     "text": [
      "Answer to this  problem is:\n",
      "year range difference\n",
      "2008-2009: -795\n",
      "2009-2010: 5091\n",
      "2010-2011: -303\n",
      "2011-2012: 1404\n",
      "2012-2013: 1565\n",
      "2013-2014: 2622\n"
     ]
    }
   ],
   "source": [
    "#code for homework 2: problem 3-1#\n",
    "print('Answer to this  problem is:')\n",
    "print('year range','difference')\n",
    "import csv\n",
    "housing_units_occupied = {} \n",
    "with open(\"C:/Users/JeTerius/downloads/Assignment2_denton_housing.csv\",'r') as input_file:\n",
    "    file_reader = csv.reader(input_file) \n",
    "    for row in file_reader:\n",
    "        if row[1] == \"Occupied Housing Units\":\n",
    "            housing_units_occupied[int(row[0])] = int(row[2])\n",
    "unit_diff = {}\n",
    "year = 2008 \n",
    "while year < 2014:\n",
    "    unit_diff[housing_units_occupied[year+1]-housing_units_occupied[year]] = str(year)+\"-\"+str(year+1)\n",
    "    year+=1\n",
    "for item in unit_diff:\n",
    "    print(unit_diff[item]+\":\",item)"
   ]
  },
  {
   "cell_type": "code",
   "execution_count": 19,
   "metadata": {},
   "outputs": [
    {
     "name": "stdout",
     "output_type": "stream",
     "text": [
      "Answer to this  problem is:\n",
      "Year\tVacant Units\tOccupied Units\n",
      "2008\t10.9%\t\t\t89.1%\n",
      "2009\t9.1%\t\t\t90.9%\n",
      "2010\t8.1%\t\t\t91.9%\n",
      "2011\t9.4%\t\t\t90.6%\n",
      "2012\t6.7%\t\t\t93.3%\n",
      "2013\t8.8%\t\t\t91.2%\n",
      "2014\t5.7%\t\t\t94.3%\n"
     ]
    }
   ],
   "source": [
    "#code for homework 2: problem 3-2#\n",
    "print('Answer to this  problem is:')\n",
    "import csv\n",
    "housing_units_total = {}\n",
    "housing_units_occupied = {}\n",
    "housing_units_vacant = {}\n",
    "with open(\"C:/Users/JeTerius/downloads/Assignment2_denton_housing.csv\",'r') as input_file:\n",
    "    file_reader = csv.reader(input_file)\n",
    "    for row in file_reader:\n",
    "        if row[1] == \"Total Housing Units\":\n",
    "            housing_units_total[int(row[0])] = int(row[2])\n",
    "        elif row[1] == \"Occupied Housing Units\":\n",
    "            housing_units_occupied[int(row[0])] = int(row[2])\n",
    "        elif row[1] == \"Vacant Housing Units\":\n",
    "            housing_units_vacant[int(row[0])] = int(row[2])\n",
    "year = 2008\n",
    "print(\"Year\\tVacant Units\\tOccupied Units\")\n",
    "while year <= 2014:\n",
    "    vacant_percent = (housing_units_vacant[year]/housing_units_total[year])*100\n",
    "    occupied_percent = (housing_units_occupied[year]/housing_units_total[year])*100\n",
    "    print(str(year)+\"\\t\"+str(round(vacant_percent,1))+\"%\\t\\t\\t\"+str(round(occupied_percent,1))+\"%\")\n",
    "    year+=1"
   ]
  },
  {
   "cell_type": "code",
   "execution_count": 16,
   "metadata": {},
   "outputs": [
    {
     "name": "stdout",
     "output_type": "stream",
     "text": [
      "Answer to this  problem is:\n",
      "\t\t\tYear\tValue\n",
      "Vacant Housing Units\t2008\t4483\n",
      "Occupied Housing Units\t2014\t46295\n"
     ]
    }
   ],
   "source": [
    "#code for homework 2: problem 3-3#\n",
    "print('Answer to this  problem is:')\n",
    "import csv\n",
    "housing_units_occupied = {}\n",
    "housing_units_vacant = {}\n",
    "with open(\"C:/Users/JeTerius/downloads/Assignment2_denton_housing.csv\",'r') as input_file:\n",
    "    file_reader = csv.reader(input_file)\n",
    "    for row in file_reader:\n",
    "        if row[1] == \"Occupied Housing Units\":\n",
    "            housing_units_occupied[int(row[0])] = int(row[2])\n",
    "        elif row[1] == \"Vacant Housing Units\": \n",
    "            housing_units_vacant[int(row[0])] = int(row[2])\n",
    "max_vacant = max(housing_units_vacant.values())\n",
    "max_occupied = max(housing_units_occupied.values())\n",
    "print(\"\\t\\t\\tYear\\tValue\")\n",
    "for item in housing_units_vacant.items():\n",
    "    if item[1] == max_vacant:\n",
    "        print(\"Vacant Housing Units\\t\"+str(item[0])+\"\\t\"+str(max_vacant))\n",
    "for item in housing_units_occupied.items():\n",
    "    if item[1] == max_occupied:\n",
    "        print(\"Occupied Housing Units\\t\"+str(item[0])+\"\\t\"+str(max_occupied))"
   ]
  },
  {
   "cell_type": "code",
   "execution_count": 18,
   "metadata": {},
   "outputs": [
    {
     "name": "stdout",
     "output_type": "stream",
     "text": [
      "Harmonic mean can be defined as, \"the reciprocal of the arithmetic mean of the reciprocals\"\n",
      "Answer to the problem is:\n",
      "44398.29\n"
     ]
    }
   ],
   "source": [
    "#code for homework 2: problem 3-4#\n",
    "print('Harmonic mean can be defined as, \"the reciprocal of the arithmetic mean of the reciprocals\"')\n",
    "print('Answer to the problem is:')\n",
    "def harmonic_mean(list_name):\n",
    "    sum_rec = 0\n",
    "    for n in list_name:\n",
    "        sum_rec += (1/n)\n",
    "    return round(len(list_name)/sum_rec,2)\n",
    "\n",
    "import csv\n",
    "housing_units_total = []\n",
    "with open(\"C:/Users/JeTerius/downloads/Assignment2_denton_housing.csv\",'r') as input_file:\n",
    "    file_reader = csv.reader(input_file)\n",
    "    for row in file_reader:\n",
    "        if row[1] == \"Total Housing Units\":\n",
    "            housing_units_total.append(int(row[2]))\n",
    "\n",
    "print(str(harmonic_mean(housing_units_total)))"
   ]
  }
 ],
 "metadata": {
  "kernelspec": {
   "display_name": "Python 3",
   "language": "python",
   "name": "python3"
  },
  "language_info": {
   "codemirror_mode": {
    "name": "ipython",
    "version": 3
   },
   "file_extension": ".py",
   "mimetype": "text/x-python",
   "name": "python",
   "nbconvert_exporter": "python",
   "pygments_lexer": "ipython3",
   "version": "3.7.3"
  }
 },
 "nbformat": 4,
 "nbformat_minor": 2
}
