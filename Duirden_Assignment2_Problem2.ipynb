{
 "cells": [
  {
   "cell_type": "code",
   "execution_count": 24,
   "metadata": {},
   "outputs": [],
   "source": [
    "#code for homework 2: problem 2-3#\n",
    "import csv\n",
    "with open(\"output2.csv\",\"w\") as output_file:\n",
    "    line_output = csv.writer(output_file,delimiter=',')\n",
    "    i = 1\n",
    "    while i <= 100:\n",
    "        input_file_name = \"C:/Users/JeTerius/documents/EOP/Assignment_2_data_collection/\"+\"ARTHROTEC.\"+str(i)+\".txt\"\n",
    "        output_line_name = \"ARTHROTEC.\"+str(i)\n",
    "        input_file = open(input_file_name).read()\n",
    "        sentences = input_file.split('\\n')\n",
    "        for x in sentences:\n",
    "            if x == '':\n",
    "                sentences.remove(x) \n",
    "        for x in sentences: \n",
    "            sentence_id = output_line_name+\" - line \"+str(sentences.index(x)+1)\n",
    "            line_output.writerow([sentence_id,x]) \n",
    "        i += 1"
   ]
  },
  {
   "cell_type": "code",
   "execution_count": null,
   "metadata": {
    "scrolled": true
   },
   "outputs": [],
   "source": [
    "#code for homework 2: problem 2-2#\n",
    "import csv\n",
    "import re\n",
    "with open(\"output2.csv\",\"w\") as output_file:\n",
    "    line_output = csv.writer(output_file,delimiter=',')\n",
    "    i = 1\n",
    "    while i <= 100:\n",
    "        input_file_name = \"/users/JeTerius/documents/EOP/Assignment_2_data_collection//\"+\"ARTHROTEC.\"+str(i)+\".txt\"\n",
    "        output_line_name = \"ARTHROTEC.\"+str(i)\n",
    "        input_file = open(input_file_name).read()\n",
    "        sentences = input_file.split('\\n')\n",
    "        for x in sentences:\n",
    "            if x == '':\n",
    "                sentences.remove(x)\n",
    "        for x in sentences:\n",
    "            sentence_id = output_line_name+\" - line \"+str(sentences.index(x)+1)\n",
    "            line_output.writerow([sentence_id,x])\n",
    "        i += 1\n",
    "import csv\n",
    "import re\n",
    "temporary_data = []\n",
    "\n",
    "with open(\"output2.csv\",'r') as input_file:\n",
    "    file_read = csv.reader(input_file)\n",
    "    for row in file_read:\n",
    "         if row:\n",
    "                some=row[1]\n",
    "                clear_sentence = re.sub(r\"[^a-zA-Z\\s\\']\",\"\",row[0])\n",
    "                clear_sentence = re.sub(\"\\s\\s\",\" \",clear_sentence)\n",
    "                row.append(clear_sentence)\n",
    "                temporary_data.append(row)\n",
    "with open(\"output2.csv\",\"w\") as output_file:\n",
    "    new_csv_writer = csv.writer(output_file,delimiter=',')\n",
    "    new_csv_writer.writerows(temp_data) "
   ]
  },
  {
   "cell_type": "code",
   "execution_count": 2,
   "metadata": {
    "scrolled": true
   },
   "outputs": [
    {
     "name": "stdout",
     "output_type": "stream",
     "text": [
      "Please enter a word: which\n",
      "ARTHROTEC.1 - line 1 I feel a bit drowsy & have a little blurred vision, so far no gastric problems. 10\n"
     ]
    },
    {
     "ename": "IndexError",
     "evalue": "list index out of range",
     "output_type": "error",
     "traceback": [
      "\u001b[1;31m---------------------------------------------------------------------------\u001b[0m",
      "\u001b[1;31mIndexError\u001b[0m                                Traceback (most recent call last)",
      "\u001b[1;32m<ipython-input-2-b5cf84231b19>\u001b[0m in \u001b[0;36m<module>\u001b[1;34m\u001b[0m\n\u001b[0;32m     38\u001b[0m     \u001b[1;32mfor\u001b[0m \u001b[0mrow\u001b[0m \u001b[1;32min\u001b[0m \u001b[0mnew_csv_reader\u001b[0m\u001b[1;33m:\u001b[0m\u001b[1;33m\u001b[0m\u001b[1;33m\u001b[0m\u001b[0m\n\u001b[0;32m     39\u001b[0m             \u001b[0muser_search\u001b[0m \u001b[1;33m=\u001b[0m \u001b[1;34m\" \"\u001b[0m\u001b[1;33m+\u001b[0m\u001b[0muser_input\u001b[0m\u001b[1;33m+\u001b[0m\u001b[1;34m\" \"\u001b[0m\u001b[1;33m\u001b[0m\u001b[1;33m\u001b[0m\u001b[0m\n\u001b[1;32m---> 40\u001b[1;33m             \u001b[1;32mif\u001b[0m \u001b[0muser_search\u001b[0m \u001b[1;32min\u001b[0m \u001b[0mrow\u001b[0m\u001b[1;33m[\u001b[0m\u001b[1;36m1\u001b[0m\u001b[1;33m]\u001b[0m\u001b[1;33m:\u001b[0m\u001b[1;33m\u001b[0m\u001b[1;33m\u001b[0m\u001b[0m\n\u001b[0m\u001b[0;32m     41\u001b[0m                 \u001b[0mfind_words\u001b[0m \u001b[1;33m=\u001b[0m \u001b[0mre\u001b[0m\u001b[1;33m.\u001b[0m\u001b[0mfindall\u001b[0m\u001b[1;33m(\u001b[0m\u001b[0muser_search\u001b[0m\u001b[1;33m,\u001b[0m\u001b[0mrow\u001b[0m\u001b[1;33m[\u001b[0m\u001b[1;36m1\u001b[0m\u001b[1;33m]\u001b[0m\u001b[1;33m)\u001b[0m\u001b[1;33m\u001b[0m\u001b[1;33m\u001b[0m\u001b[0m\n\u001b[0;32m     42\u001b[0m             \u001b[0mprint\u001b[0m\u001b[1;33m(\u001b[0m\u001b[0mrow\u001b[0m\u001b[1;33m[\u001b[0m\u001b[1;36m0\u001b[0m\u001b[1;33m]\u001b[0m\u001b[1;33m,\u001b[0m\u001b[0mrow\u001b[0m\u001b[1;33m[\u001b[0m\u001b[1;36m1\u001b[0m\u001b[1;33m]\u001b[0m\u001b[1;33m,\u001b[0m\u001b[0mlen\u001b[0m\u001b[1;33m(\u001b[0m\u001b[1;34m\"find_words\"\u001b[0m\u001b[1;33m)\u001b[0m\u001b[1;33m)\u001b[0m\u001b[1;33m\u001b[0m\u001b[1;33m\u001b[0m\u001b[0m\n",
      "\u001b[1;31mIndexError\u001b[0m: list index out of range"
     ]
    }
   ],
   "source": [
    "#code for homework 2: problem 2#\n",
    "#part 1#\n",
    "import csv\n",
    "import re\n",
    "with open(\"output2.csv\",\"w\") as output_file:\n",
    "    line_output = csv.writer(output_file,delimiter=',')\n",
    "    i = 1\n",
    "    while i <= 100: \n",
    "        input_file_name = \"/users/JeTerius/documents/EOP/Assignment_2_data_collection//\"+\"ARTHROTEC.\"+str(i)+\".txt\"\n",
    "        output_line_name = \"ARTHROTEC.\"+str(i)\n",
    "        input_file = open(input_file_name).read()\n",
    "        sentences = input_file.split('\\n')\n",
    "        for x in sentences:\n",
    "            if x == '':\n",
    "                sentences.remove(x)\n",
    "        for x in sentences:\n",
    "            sentence_id = output_line_name+\" - line \"+str(sentences.index(x)+1)\n",
    "            line_output.writerow([sentence_id,x])\n",
    "        i += 1\n",
    "#part 2#\n",
    "temporary_data = []\n",
    "with open(\"output2.csv\",'r') as input_file:\n",
    "    file_read = csv.reader(input_file)\n",
    "    for row in file_read: \n",
    "         if row:\n",
    "                some=row[1]\n",
    "                clear_sentence = re.sub(r\"[^a-zA-Z\\s\\']\",\"\",row[1])\n",
    "                clear_sentence = re.sub(\"\\s\\s\",\" \",clear_sentence)\n",
    "                row.append(clear_sentence)\n",
    "                temporary_data.append(row)\n",
    "#part 3#\n",
    "with open(\"output2.csv\",\"w\") as output_file:\n",
    "    new_csv_writer = csv.writer(output_file,delimiter=',')\n",
    "    new_csv_writer.writerows(temporary_data)\n",
    "user_input = input(\"Please enter a word: \") \n",
    "with open(\"output2.csv\",'r') as input_file:\n",
    "    new_csv_reader = csv.reader(input_file) \n",
    "    for row in new_csv_reader:\n",
    "            user_search = \" \"+user_input+\" \"\n",
    "            if user_search in row[1]:\n",
    "                find_words = re.findall(user_search,row[1])\n",
    "            print(row[0],row[1],len(\"find_words\"))\n",
    "            \n",
    "            #error in code output, that could not be resolved#"
   ]
  }
 ],
 "metadata": {
  "kernelspec": {
   "display_name": "Python 3",
   "language": "python",
   "name": "python3"
  },
  "language_info": {
   "codemirror_mode": {
    "name": "ipython",
    "version": 3
   },
   "file_extension": ".py",
   "mimetype": "text/x-python",
   "name": "python",
   "nbconvert_exporter": "python",
   "pygments_lexer": "ipython3",
   "version": "3.7.3"
  }
 },
 "nbformat": 4,
 "nbformat_minor": 2
}
