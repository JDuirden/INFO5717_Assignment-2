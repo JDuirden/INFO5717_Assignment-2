{
 "cells": [
  {
   "cell_type": "code",
   "execution_count": 48,
   "metadata": {},
   "outputs": [
    {
     "name": "stdout",
     "output_type": "stream",
     "text": [
      "Volume of the Sphere\n",
      "r V\n",
      "1 4.1887902047863905\n",
      "2 33.510321638291124\n",
      "3 113.09733552923254\n",
      "4 268.082573106329\n",
      "5 523.5987755982989\n",
      "6 904.7786842338603\n",
      "7 1436.7550402417319\n",
      "8 2144.660584850632\n",
      "9 3053.6280592892786\n",
      "10 4188.790204786391\n"
     ]
    }
   ],
   "source": [
    "#code for homework 2: problem 1#\n",
    "pi = 3.1415926535897931\n",
    "r = 1\n",
    "V= 4.0/3.0*pi* r**3\n",
    "r2 = 2\n",
    "V2= 4.0/3.0*pi* r2**3\n",
    "r3 = 3\n",
    "V3= 4.0/3.0*pi* r3**3\n",
    "r4 = 4\n",
    "V4= 4.0/3.0*pi* r4**3\n",
    "r5 = 5\n",
    "V5= 4.0/3.0*pi* r5**3\n",
    "r6 = 6\n",
    "V6= 4.0/3.0*pi* r6**3\n",
    "r7 = 7\n",
    "V7= 4.0/3.0*pi* r7**3\n",
    "r8 = 8\n",
    "V8= 4.0/3.0*pi* r8**3\n",
    "r9=9\n",
    "V9= 4.0/3.0*pi* r9**3\n",
    "r10=10\n",
    "V10= 4.0/3.0*pi* r10**3\n",
    "print('Volume of the Sphere')\n",
    "print('r', 'V')\n",
    "print(1,V)\n",
    "print(2,V2)\n",
    "print(3,V3)\n",
    "print(4,V4)\n",
    "print(5,V5)\n",
    "print(6,V6)\n",
    "print(7,V7)\n",
    "print(8,V8)\n",
    "print(9,V9)\n",
    "print(10,V10)\n",
    "\n",
    "\n"
   ]
  }
 ],
 "metadata": {
  "kernelspec": {
   "display_name": "Python 3",
   "language": "python",
   "name": "python3"
  },
  "language_info": {
   "codemirror_mode": {
    "name": "ipython",
    "version": 3
   },
   "file_extension": ".py",
   "mimetype": "text/x-python",
   "name": "python",
   "nbconvert_exporter": "python",
   "pygments_lexer": "ipython3",
   "version": "3.7.3"
  }
 },
 "nbformat": 4,
 "nbformat_minor": 2
}
